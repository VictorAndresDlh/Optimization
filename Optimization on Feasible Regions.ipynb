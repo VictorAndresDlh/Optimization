{
  "nbformat": 4,
  "nbformat_minor": 0,
  "metadata": {
    "colab": {
      "name": "Victor Andres De La Hoz Luengas - Lista  1 Problemas Computacionales Opt.ipynb",
      "provenance": [],
      "toc_visible": true
    },
    "kernelspec": {
      "name": "python3",
      "display_name": "Python 3"
    },
    "language_info": {
      "name": "python"
    }
  },
  "cells": [
    {
      "cell_type": "markdown",
      "metadata": {
        "id": "0IL4aKLWjFxj"
      },
      "source": [
        "<h2>\n",
        "<center>\n",
        "<b>\n",
        "<i>\n",
        "Universidad Nacional de Colombia Sede Bogotá\n",
        "<center>\n",
        "Introducción a la Optimización\n",
        "<center>\n",
        "Tarea computacional 1"
      ]
    },
    {
      "cell_type": "markdown",
      "metadata": {
        "id": "VFgL_phHjXG4"
      },
      "source": [
        "**De La Hoz Luengas, Víctor Andrés** \\\\\n",
        "**Matrícula 9 de MATEMÁTICAS**"
      ]
    },
    {
      "cell_type": "code",
      "metadata": {
        "id": "SKcDK_mWlFE3"
      },
      "source": [
        "import numpy as np\n",
        "import matplotlib.pyplot as plt\n",
        "from IPython import display\n",
        "from scipy import optimize\n",
        "import cvxpy as cp\n",
        "from IPython.display import IFrame"
      ],
      "execution_count": null,
      "outputs": []
    },
    {
      "cell_type": "markdown",
      "metadata": {
        "id": "WOy_pLBGCqV-"
      },
      "source": [
        "# **Problema 1**\n",
        "Usando una de las librerias introducidas soluciones el siguiente problema de optimizacion (encuentre el punto y valor optimo). Represente graficamente el conjunto factible y comente sobre la localización del punto óptimo.\n",
        "$$\n",
        "\\begin{array}{cr}\n",
        "\\mbox{minimizar}     & x_1^2+x_2^2  \\\\\n",
        "\\mbox{sujeto a}     & (x_1-1)^2+(x_2-1)^2\\leq 1,\\\\\n",
        " & (x_1-1)^2+(x_2+1)^2\\leq 1,\n",
        "\\end{array}\n",
        "$$"
      ]
    },
    {
      "cell_type": "markdown",
      "metadata": {
        "id": "Mg0qyOhQj9fy"
      },
      "source": [
        "###<font color='red'><center><h2><b>*Solución*</font>"
      ]
    },
    {
      "cell_type": "markdown",
      "metadata": {
        "id": "wd8eHUgNr7Xv"
      },
      "source": [
        "*El conjunto factible, junto con algunas curvas de nivel en 1, 1.5 y 2, es:*"
      ]
    },
    {
      "cell_type": "code",
      "metadata": {
        "colab": {
          "base_uri": "https://localhost:8080/",
          "height": 396
        },
        "id": "Pvff4im0setJ",
        "outputId": "c4312bcc-8e6f-4aee-c86e-39f644b06e0b"
      },
      "source": [
        "IFrame(src=\"https://www.desmos.com/calculator/g4ea8hwyjt?lang=es\", width=700, height=375)"
      ],
      "execution_count": null,
      "outputs": [
        {
          "output_type": "execute_result",
          "data": {
            "text/html": [
              "\n",
              "        <iframe\n",
              "            width=\"700\"\n",
              "            height=\"375\"\n",
              "            src=\"https://www.desmos.com/calculator/g4ea8hwyjt?lang=es\"\n",
              "            frameborder=\"0\"\n",
              "            allowfullscreen\n",
              "        ></iframe>\n",
              "        "
            ],
            "text/plain": [
              "<IPython.lib.display.IFrame at 0x7f6e7f6b0e50>"
            ]
          },
          "metadata": {
            "tags": []
          },
          "execution_count": 47
        }
      ]
    },
    {
      "cell_type": "markdown",
      "metadata": {
        "id": "yn-go7awuiY2"
      },
      "source": [
        "*A continuación declaramos las variables y las restricciones:*"
      ]
    },
    {
      "cell_type": "code",
      "metadata": {
        "id": "cr3bWcEIu5DG"
      },
      "source": [
        "# Variable x1\n",
        "x1 = cp.Variable()\n",
        "# Variable x2\n",
        "x2 = cp.Variable()\n",
        "# Restricciones\n",
        "const = [(x1-1)**2+(x2-1)**2 <= 1, (x1-1)**2+(x2+1)**2 <= 1]"
      ],
      "execution_count": null,
      "outputs": []
    },
    {
      "cell_type": "markdown",
      "metadata": {
        "id": "NQcHnW6Fv8_l"
      },
      "source": [
        "*Ahora, definimos y solucionamos el problema de optimización usando CVXPY*"
      ]
    },
    {
      "cell_type": "code",
      "metadata": {
        "colab": {
          "base_uri": "https://localhost:8080/"
        },
        "id": "P2mutwGkxHGa",
        "outputId": "303f8ce1-4758-4d03-819e-4f32bde4b8b3"
      },
      "source": [
        "# Función Objetivo\n",
        "obj = cp.Minimize(x1**2+x2**2)\n",
        "# Problema de optimización\n",
        "prob = cp.Problem(obj, const)\n",
        "# Solución del problema\n",
        "prob.solve() \n",
        "print(\"Estatus final alcanzado:\", prob.status)\n",
        "print(\"Valor óptimo:\", prob.value)\n",
        "print(\"Punto óptimo:\", \"x1=\", x1.value, \"x2=\", x2.value)"
      ],
      "execution_count": null,
      "outputs": [
        {
          "output_type": "stream",
          "text": [
            "Estatus final alcanzado: optimal\n",
            "Valor óptimo: 0.9999658242523712\n",
            "Punto óptimo: x1= 0.9999802295393706 x2= 1.9912424211981957e-14\n"
          ],
          "name": "stdout"
        }
      ]
    },
    {
      "cell_type": "markdown",
      "metadata": {
        "id": "L6Hhd37-w13c"
      },
      "source": [
        "*Por la precisión por defecto usada, podemos conlcuir que los valores óptimos son:*\n",
        "\n",
        "$$\n",
        "x_{1_{opt}}=1,\\qquad x_{2_{opt}}=0\n",
        "$$"
      ]
    },
    {
      "cell_type": "markdown",
      "metadata": {
        "id": "zdaFC1mIylNv"
      },
      "source": [
        "# **Problema 2**\n",
        "Usando una de las librerias introducidas soluciones el siguiente problema de optimizacion (encuentre el punto y valor optimo). Represente graficamente el conjunto factible y comente sobre la localización del punto óptimo.\n",
        "$$\n",
        "\\begin{array}{cr}\n",
        "\\mbox{minimizar}     & x_1+x_2 \\\\\n",
        "\\mbox{sujeto a}     & 2x_1+x_2\\leq 1,\\\\\n",
        " & x_1+3x_2\\geq 1,\\\\\n",
        "&x_1,x_2\\geq 0\n",
        "\\end{array}\n",
        "$$"
      ]
    },
    {
      "cell_type": "markdown",
      "metadata": {
        "id": "m72A-52sj-WC"
      },
      "source": [
        "###<font color='red'><center><h2><b>*Solución*</font>"
      ]
    },
    {
      "cell_type": "markdown",
      "metadata": {
        "id": "_QZosAnuzgMQ"
      },
      "source": [
        "*El conjunto factible, junto con algunas curvas de nivel en 0.5, 0.7 y 0.9, es:*"
      ]
    },
    {
      "cell_type": "code",
      "metadata": {
        "colab": {
          "base_uri": "https://localhost:8080/",
          "height": 396
        },
        "id": "7lq-jEuyzhok",
        "outputId": "fe612518-b6fa-4fe7-a5b0-b0026374575e"
      },
      "source": [
        "IFrame(src=\"https://www.desmos.com/calculator/xkbcs6rtjb?lang=es\", width=700, height=375)"
      ],
      "execution_count": null,
      "outputs": [
        {
          "output_type": "execute_result",
          "data": {
            "text/html": [
              "\n",
              "        <iframe\n",
              "            width=\"700\"\n",
              "            height=\"375\"\n",
              "            src=\"https://www.desmos.com/calculator/xkbcs6rtjb?lang=es\"\n",
              "            frameborder=\"0\"\n",
              "            allowfullscreen\n",
              "        ></iframe>\n",
              "        "
            ],
            "text/plain": [
              "<IPython.lib.display.IFrame at 0x7f6e7f85c9d0>"
            ]
          },
          "metadata": {
            "tags": []
          },
          "execution_count": 50
        }
      ]
    },
    {
      "cell_type": "markdown",
      "metadata": {
        "id": "zNMt5KpBzo2r"
      },
      "source": [
        "*A continuación declaramos las variables y las restricciones:*"
      ]
    },
    {
      "cell_type": "code",
      "metadata": {
        "id": "48_PHlTwzs9p"
      },
      "source": [
        "# Variable x1\n",
        "x1 = cp.Variable()\n",
        "# Variable x2\n",
        "x2 = cp.Variable()\n",
        "# Restricciones\n",
        "const = [2*x1 + x2 <= 1, x1 + 3*x2 >= 1, x1 >= 0, x2 >= 0]"
      ],
      "execution_count": null,
      "outputs": []
    },
    {
      "cell_type": "markdown",
      "metadata": {
        "id": "8w78mo1Qzwpl"
      },
      "source": [
        "*Ahora, definimos y solucionamos el problema de optimización usando CVXPY*"
      ]
    },
    {
      "cell_type": "code",
      "metadata": {
        "colab": {
          "base_uri": "https://localhost:8080/"
        },
        "id": "XfXHcDjnz2LI",
        "outputId": "f7451a60-5838-4634-960b-197d84d09c82"
      },
      "source": [
        "# Función Objetivo\n",
        "obj = cp.Minimize(x1+x2)\n",
        "# Problema de optimización\n",
        "prob = cp.Problem(obj, const)\n",
        "# Solución del problema\n",
        "prob.solve() \n",
        "print(\"Estatus final alcanzado:\", prob.status)\n",
        "print(\"Valor óptimo:\", prob.value)\n",
        "print(\"Punto óptimo:\", \"x1=\", x1.value, \"x2=\", x2.value)"
      ],
      "execution_count": null,
      "outputs": [
        {
          "output_type": "stream",
          "text": [
            "Estatus final alcanzado: optimal\n",
            "Valor óptimo: 0.33333333334480036\n",
            "Punto óptimo: x1= 2.0877799845361722e-11 x2= 0.3333333333239225\n"
          ],
          "name": "stdout"
        }
      ]
    },
    {
      "cell_type": "markdown",
      "metadata": {
        "id": "SCmmoVLmz5bD"
      },
      "source": [
        "*Por la precisión por defecto usada, podemos conlcuir que los valores óptimos son:*\n",
        "\n",
        "$$\n",
        "x_{1_{opt}}=0,\\qquad x_{2_{opt}}=\\dfrac{1}{3}\n",
        "$$"
      ]
    },
    {
      "cell_type": "markdown",
      "metadata": {
        "id": "C4DPAS-UAoum"
      },
      "source": [
        "# **Problema 3**\n",
        "Usando una de las librerias introducidas soluciones el siguiente problema de optimizacion (encuentre el punto y valor optimo). Represente graficamente el conjunto factible y comente sobre la localización del punto óptimo.\n",
        "$$\n",
        "\\begin{array}{cr}\n",
        "\\mbox{minimizar}     & -x_1-x_2 \\\\\n",
        "\\mbox{sujeto a}     & 2x_1+x_2\\leq 1,\\\\\n",
        " & x_1+3x_2\\geq 1,\\\\\n",
        "&x_1,x_2\\geq 0\n",
        "\\end{array}\n",
        "$$"
      ]
    },
    {
      "cell_type": "markdown",
      "metadata": {
        "id": "yDRpHNZ7j_Cw"
      },
      "source": [
        "###<font color='red'><center><h2><b>*Solución*</font>"
      ]
    },
    {
      "cell_type": "markdown",
      "metadata": {
        "id": "6SsnXaLc28vO"
      },
      "source": [
        "*El conjunto factible, junto con algunas curvas de nivel en -0.5, -0.7 y -0.9, es:*"
      ]
    },
    {
      "cell_type": "code",
      "metadata": {
        "colab": {
          "base_uri": "https://localhost:8080/",
          "height": 396
        },
        "id": "gjuNjU6x29rI",
        "outputId": "157194cd-e11c-48c9-f213-3fff15597604"
      },
      "source": [
        "IFrame(src=\"https://www.desmos.com/calculator/o3wmexdhlt?lang=es\", width=700, height=375)"
      ],
      "execution_count": null,
      "outputs": [
        {
          "output_type": "execute_result",
          "data": {
            "text/html": [
              "\n",
              "        <iframe\n",
              "            width=\"700\"\n",
              "            height=\"375\"\n",
              "            src=\"https://www.desmos.com/calculator/o3wmexdhlt?lang=es\"\n",
              "            frameborder=\"0\"\n",
              "            allowfullscreen\n",
              "        ></iframe>\n",
              "        "
            ],
            "text/plain": [
              "<IPython.lib.display.IFrame at 0x7f6e7f6c7e10>"
            ]
          },
          "metadata": {
            "tags": []
          },
          "execution_count": 53
        }
      ]
    },
    {
      "cell_type": "markdown",
      "metadata": {
        "id": "gELHhFTQ3CU3"
      },
      "source": [
        "*A continuación declaramos las variables y las restricciones:*"
      ]
    },
    {
      "cell_type": "code",
      "metadata": {
        "id": "uUwimp3z3F9l"
      },
      "source": [
        "# Variable x1\n",
        "x1 = cp.Variable()\n",
        "# Variable x2\n",
        "x2 = cp.Variable()\n",
        "# Restricciones\n",
        "const = [2*x1 + x2 <= 1, x1 + 3*x2 >= 1, x1 >= 0, x2 >= 0]"
      ],
      "execution_count": null,
      "outputs": []
    },
    {
      "cell_type": "markdown",
      "metadata": {
        "id": "ZOUsCZi63JOn"
      },
      "source": [
        "*Ahora, definimos y solucionamos el problema de optimización usando CVXPY*"
      ]
    },
    {
      "cell_type": "code",
      "metadata": {
        "colab": {
          "base_uri": "https://localhost:8080/"
        },
        "id": "CdNiCK4n3P36",
        "outputId": "e2424f28-dff8-4cb1-b9dc-f68871c4fe76"
      },
      "source": [
        "# Función Objetivo\n",
        "obj = cp.Minimize(-x1-x2)\n",
        "# Problema de optimización\n",
        "prob = cp.Problem(obj, const)\n",
        "# Solución del problema\n",
        "prob.solve() \n",
        "print(\"Estatus final alcanzado:\", prob.status)\n",
        "print(\"Valor óptimo:\", prob.value)\n",
        "print(\"Punto óptimo:\", \"x1=\", x1.value, \"x2=\", x2.value)"
      ],
      "execution_count": null,
      "outputs": [
        {
          "output_type": "stream",
          "text": [
            "Estatus final alcanzado: optimal\n",
            "Valor óptimo: -0.9999999999616379\n",
            "Punto óptimo: x1= -5.326827580413667e-12 x2= 0.9999999999669649\n"
          ],
          "name": "stdout"
        }
      ]
    },
    {
      "cell_type": "markdown",
      "metadata": {
        "id": "fwXLsaKX3T-i"
      },
      "source": [
        "*Por la precisión por defecto usada, podemos conlcuir que los valores óptimos son:*\n",
        "\n",
        "$$\n",
        "x_{1_{opt}}=0,\\qquad x_{2_{opt}}=1\n",
        "$$"
      ]
    },
    {
      "cell_type": "markdown",
      "metadata": {
        "id": "oV4VZMZQEd6L"
      },
      "source": [
        "# **Problema 4**\n",
        "Usando una de las librerias introducidas soluciones el siguiente problema de optimizacion (encuentre el punto y valor optimo). Represente graficamente el conjunto factible y comente sobre la localización del punto óptimo.\n",
        "$$\n",
        "\\begin{array}{cr}\n",
        "\\mbox{minimizar}     & x_1^2+9x_2^2  \\\\\n",
        "\\mbox{sujeto a}     & 2x_1+x_2\\geq 1,\\\\\n",
        " & x_1+3x_2\\geq 1,\n",
        "\\end{array}\n",
        "$$"
      ]
    },
    {
      "cell_type": "markdown",
      "metadata": {
        "id": "YJShtNphj_oR"
      },
      "source": [
        "###<font color='red'><center><h2><b>*Solución*</font>"
      ]
    },
    {
      "cell_type": "markdown",
      "metadata": {
        "id": "PqQLQ1sS5EGQ"
      },
      "source": [
        "*El conjunto factible, junto con algunas curvas de nivel en 5, 10 y 15, es:*"
      ]
    },
    {
      "cell_type": "code",
      "metadata": {
        "colab": {
          "base_uri": "https://localhost:8080/",
          "height": 396
        },
        "id": "NwExV3Nk5LvW",
        "outputId": "81b5c029-882e-4510-8f62-e6d437aaf127"
      },
      "source": [
        "IFrame(src=\"https://www.desmos.com/calculator/9ksln5rx56?lang=es\", width=700, height=375)"
      ],
      "execution_count": null,
      "outputs": [
        {
          "output_type": "execute_result",
          "data": {
            "text/html": [
              "\n",
              "        <iframe\n",
              "            width=\"700\"\n",
              "            height=\"375\"\n",
              "            src=\"https://www.desmos.com/calculator/9ksln5rx56?lang=es\"\n",
              "            frameborder=\"0\"\n",
              "            allowfullscreen\n",
              "        ></iframe>\n",
              "        "
            ],
            "text/plain": [
              "<IPython.lib.display.IFrame at 0x7f6e7f6c7ed0>"
            ]
          },
          "metadata": {
            "tags": []
          },
          "execution_count": 56
        }
      ]
    },
    {
      "cell_type": "markdown",
      "metadata": {
        "id": "d2vUALNJ5QA1"
      },
      "source": [
        "*A continuación declaramos las variables y las restricciones:*"
      ]
    },
    {
      "cell_type": "code",
      "metadata": {
        "id": "VNrW5T7w5Tbz"
      },
      "source": [
        "# Variable x1\n",
        "x1 = cp.Variable()\n",
        "# Variable x2\n",
        "x2 = cp.Variable()\n",
        "# Restricciones\n",
        "const = [2*x1 + x2 >= 1, x1 + 3*x2 >= 1]"
      ],
      "execution_count": null,
      "outputs": []
    },
    {
      "cell_type": "markdown",
      "metadata": {
        "id": "fvusSIrA5lJZ"
      },
      "source": [
        "*Ahora, definimos y solucionamos el problema de optimización usando CVXPY*"
      ]
    },
    {
      "cell_type": "code",
      "metadata": {
        "colab": {
          "base_uri": "https://localhost:8080/"
        },
        "id": "VrklYEQI5pO3",
        "outputId": "11f34ddd-62c9-4a3d-9c74-49685613acec"
      },
      "source": [
        "# Función Objetivo\n",
        "obj = cp.Minimize(x1**2+9*x2**2)\n",
        "# Problema de optimización\n",
        "prob = cp.Problem(obj, const)\n",
        "# Solución del problema\n",
        "prob.solve() \n",
        "print(\"Estatus final alcanzado:\", prob.status)\n",
        "print(\"Valor óptimo:\", prob.value)\n",
        "print(\"Punto óptimo:\", \"x1=\", x1.value, \"x2=\", x2.value)"
      ],
      "execution_count": null,
      "outputs": [
        {
          "output_type": "stream",
          "text": [
            "Estatus final alcanzado: optimal\n",
            "Valor óptimo: 0.5000000000000003\n",
            "Punto óptimo: x1= 0.5000000000000001 x2= 0.1666666666666667\n"
          ],
          "name": "stdout"
        }
      ]
    },
    {
      "cell_type": "markdown",
      "metadata": {
        "id": "Ogx2Xxee5uk2"
      },
      "source": [
        "*Por la precisión por defecto usada, podemos conlcuir que los valores óptimos son:*\n",
        "\n",
        "$$\n",
        "x_{1_{opt}}=\\dfrac{1}{2},\\qquad x_{2_{opt}}=\\dfrac{1}{6}\n",
        "$$"
      ]
    },
    {
      "cell_type": "markdown",
      "metadata": {
        "id": "Akp3jdNXDqdG"
      },
      "source": [
        "# **Problema 5**\n",
        "Usando una de las librerias introducidas soluciones el siguiente problema de optimizacion (encuentre el punto y valor optimo). Represente graficamente el conjunto factible y comente sobre la localización del punto óptimo.\n",
        "\n",
        "\\begin{array}{cr}\n",
        "\\mbox{minimizar}     & x_1^2-3x_1+x_2^2-x_2  \\\\\n",
        "\\mbox{sujeto a}     & -x_1+x_2\\leq 0,\\\\\n",
        " & x_1^2+x_2^2\\leq 4,\\\\\n",
        "&x_1,x_2\\geq 0\n",
        "\\end{array}"
      ]
    },
    {
      "cell_type": "markdown",
      "metadata": {
        "id": "dHQLkd4CkAWY"
      },
      "source": [
        "###<font color='red'><center><h2><b>*Solución*</font>"
      ]
    },
    {
      "cell_type": "markdown",
      "metadata": {
        "id": "bGJ6_3ii7xAA"
      },
      "source": [
        "*El conjunto factible, junto con algunas curvas de nivel en -2.4, -2.2 y -2, es:*"
      ]
    },
    {
      "cell_type": "code",
      "metadata": {
        "colab": {
          "base_uri": "https://localhost:8080/",
          "height": 396
        },
        "id": "gu2eUGys74Xr",
        "outputId": "f4902777-5b11-4bd9-cbad-bdf4d03d7a8a"
      },
      "source": [
        "IFrame(src=\"https://www.desmos.com/calculator/74fk84ckhd?lang=es\", width=700, height=375)"
      ],
      "execution_count": null,
      "outputs": [
        {
          "output_type": "execute_result",
          "data": {
            "text/html": [
              "\n",
              "        <iframe\n",
              "            width=\"700\"\n",
              "            height=\"375\"\n",
              "            src=\"https://www.desmos.com/calculator/74fk84ckhd?lang=es\"\n",
              "            frameborder=\"0\"\n",
              "            allowfullscreen\n",
              "        ></iframe>\n",
              "        "
            ],
            "text/plain": [
              "<IPython.lib.display.IFrame at 0x7f6e7f6df590>"
            ]
          },
          "metadata": {
            "tags": []
          },
          "execution_count": 59
        }
      ]
    },
    {
      "cell_type": "markdown",
      "metadata": {
        "id": "J6Faqzyu76cu"
      },
      "source": [
        "*A continuación declaramos las variables y las restricciones:*"
      ]
    },
    {
      "cell_type": "code",
      "metadata": {
        "id": "9q4IcQCO7-iU"
      },
      "source": [
        "# Variable x1\n",
        "x1 = cp.Variable()\n",
        "# Variable x2\n",
        "x2 = cp.Variable()\n",
        "# Restricciones\n",
        "const = [-x1 + x2 <= 0, x1**2 + x2**2 <= 4, x1 >= 0, x2 >= 0]"
      ],
      "execution_count": null,
      "outputs": []
    },
    {
      "cell_type": "markdown",
      "metadata": {
        "id": "KLuabTof8CwU"
      },
      "source": [
        "*Ahora, definimos y solucionamos el problema de optimización usando CVXPY*"
      ]
    },
    {
      "cell_type": "code",
      "metadata": {
        "colab": {
          "base_uri": "https://localhost:8080/"
        },
        "id": "mthJs8Y88GMg",
        "outputId": "131eea0b-9ee6-4ff4-eb8a-bb8016d2fffd"
      },
      "source": [
        "# Función Objetivo\n",
        "obj = cp.Minimize(x1**2-3*x1+x2**2-x2)\n",
        "# Problema de optimización\n",
        "prob = cp.Problem(obj, const)\n",
        "# Solución del problema\n",
        "prob.solve()  # Returns the optimal value.\n",
        "print(\"Estatus final alcanzado:\", prob.status)\n",
        "print(\"Valor óptimo:\", prob.value)\n",
        "print(\"Punto óptimo:\", \"x1=\", x1.value, \"x2=\", x2.value)"
      ],
      "execution_count": null,
      "outputs": [
        {
          "output_type": "stream",
          "text": [
            "Estatus final alcanzado: optimal\n",
            "Valor óptimo: -2.500000000000723\n",
            "Punto óptimo: x1= 1.5000194042738886 x2= 0.5000066242591339\n"
          ],
          "name": "stdout"
        }
      ]
    },
    {
      "cell_type": "markdown",
      "metadata": {
        "id": "BsLKgPzL8JGz"
      },
      "source": [
        "*Por lo anterior, podemos conlcuir que los valores óptimos son:*\n",
        "\n",
        "$$\n",
        "x_{1_{opt}}=\\dfrac{3}{2},\\qquad x_{2_{opt}}=\\dfrac{1}{2}\n",
        "$$"
      ]
    },
    {
      "cell_type": "markdown",
      "metadata": {
        "id": "SuAAFDNnHSvL"
      },
      "source": [
        "# **Problema 6**\n",
        "Una refinería puede comprar dos tipos de petróleos: petróleo crudo lígero y petróleo crudo pesado. El costo por barril de estos tipos de petroleo es de 11USD y 9USD, respectivamente. De cada tipo de petróleo se producen por barril las siguientes cantidades de gasolina, kerosene y turbosina:\n",
        "\n",
        "\n",
        "|                     |Gasolina         |kerosene        | Turbosina      |\n",
        "----------------------|-----------------|----------------|----------------|\n",
        "| Lígero              | 0.4             |0.2             |0.35            |\n",
        "| Pesado              | 0.32            |0.4             |0.2             |\n",
        "\n",
        "\n",
        "\n",
        "\n",
        "Observe que durante el proceso de refinamiento se pierden 5% y 8% del crudo, respectivamente. La refinería tiene un contrato para entregar 1 millón de barriles de gasolina, 400mil barriles de kerosene y 250mil barriles de turbosina. Formule y resuelva un problema de programación lineal de minimizar el costo y cumplir con los requerimientos en este caso."
      ]
    },
    {
      "cell_type": "markdown",
      "metadata": {
        "id": "80s_1qXekBd5"
      },
      "source": [
        "###<font color='red'><center><h2><b>*Solución*</font>"
      ]
    },
    {
      "cell_type": "markdown",
      "metadata": {
        "id": "Lea4MQL_N52S"
      },
      "source": [
        "### **Planteamiento:**\n",
        "*Para poder solucionar este problema, iniciamos con la definición de las variables involucradas. Considere:*\n",
        "\n",
        "$$\n",
        "x_{1}: \\textit{Número de barriles petróleo crudo ligero}\n",
        "$$\n",
        "$$\n",
        "x_{2}: \\textit{Número de barriles de petróleo crudo pesado}\n",
        "$$\n",
        "\n",
        "*La función a minimizar, es la función de costos, dada por:*\n",
        "\n",
        "$$\n",
        "C(x_{1},x_{2})=11x_{1}+9x_{2}\n",
        "$$\n",
        "\n",
        "*Ahora, según los porcentajes de producción por barril dados en la tabla, y el contrato de la refinería, el problema de optimización es el siguiente:*\n",
        "\n",
        "\\begin{array}{cr}\n",
        "\\mbox{minimizar}     & 11x_{1}+9x_{2}  \\\\\n",
        "\\mbox{sujeto a}     & 0.4x_{1}+0.32x_{2}\\geq 1000000,\\\\\n",
        " & 0.2x_{1}+0.4x_{2}\\geq 400000,\\\\\n",
        "& 0.35x_{1}+0.2x_{2}\\geq 250000, \\\\\n",
        "& x_{1},x_{2}\\geq 0\n",
        "\\end{array}"
      ]
    },
    {
      "cell_type": "markdown",
      "metadata": {
        "id": "2ZIeZheyRwJc"
      },
      "source": [
        "### **Solución:**\n",
        "*El conjunto factible, junto con algunas curvas de nivel en $3\\times 10^7$, $4\\times 10^7$ y $5\\times 10^7$, es:*"
      ]
    },
    {
      "cell_type": "code",
      "metadata": {
        "colab": {
          "base_uri": "https://localhost:8080/",
          "height": 396
        },
        "id": "YgwrkCQER_u3",
        "outputId": "d94fbeaf-60ce-434c-f0e1-651aef59ec71"
      },
      "source": [
        "IFrame(src=\"https://www.desmos.com/calculator/gv5qe3sqlu?lang=es\", width=700, height=375)"
      ],
      "execution_count": null,
      "outputs": [
        {
          "output_type": "execute_result",
          "data": {
            "text/html": [
              "\n",
              "        <iframe\n",
              "            width=\"700\"\n",
              "            height=\"375\"\n",
              "            src=\"https://www.desmos.com/calculator/gv5qe3sqlu?lang=es\"\n",
              "            frameborder=\"0\"\n",
              "            allowfullscreen\n",
              "        ></iframe>\n",
              "        "
            ],
            "text/plain": [
              "<IPython.lib.display.IFrame at 0x7f6e7f66b2d0>"
            ]
          },
          "metadata": {
            "tags": []
          },
          "execution_count": 79
        }
      ]
    },
    {
      "cell_type": "markdown",
      "metadata": {
        "id": "sq7vPLQzSJ5H"
      },
      "source": [
        "*A continuación declaramos las variables y las restricciones:*"
      ]
    },
    {
      "cell_type": "code",
      "metadata": {
        "id": "ZqXziFymSL3w"
      },
      "source": [
        "# Variable x1\n",
        "x1 = cp.Variable()\n",
        "# Variable x2\n",
        "x2 = cp.Variable()\n",
        "# Restricciones\n",
        "const = [0.4*x1 + 0.32*x2 >= 1000000, 0.2*x1 + 0.4*x2 >= 400000, 0.35*x1 + 0.2*x2 >= 250000, x1 >= 0, x2 >= 0]"
      ],
      "execution_count": null,
      "outputs": []
    },
    {
      "cell_type": "markdown",
      "metadata": {
        "id": "DCzN-rPuSO_x"
      },
      "source": [
        "*Ahora, definimos y solucionamos el problema de optimización usando CVXPY*"
      ]
    },
    {
      "cell_type": "code",
      "metadata": {
        "colab": {
          "base_uri": "https://localhost:8080/"
        },
        "id": "eOHMrRLjSTIh",
        "outputId": "c3dad005-a247-4e8b-e7f7-780ba75b94c4"
      },
      "source": [
        "# Función Objetivo\n",
        "obj = cp.Minimize(11*x1+9*x2)\n",
        "# Problema de optimización\n",
        "prob = cp.Problem(obj, const)\n",
        "# Solución del problema\n",
        "prob.solve()  # Returns the optimal value.\n",
        "print(\"Estatus final alcanzado:\", prob.status)\n",
        "print(\"Valor óptimo:\", prob.value)\n",
        "print(\"Punto óptimo:\", \"x1=\", x1.value, \"x2=\", x2.value)"
      ],
      "execution_count": null,
      "outputs": [
        {
          "output_type": "stream",
          "text": [
            "Estatus final alcanzado: optimal\n",
            "Valor óptimo: 27500000.000085518\n",
            "Punto óptimo: x1= 2499999.999663941 x2= 0.00042024050458418043\n"
          ],
          "name": "stdout"
        }
      ]
    },
    {
      "cell_type": "markdown",
      "metadata": {
        "id": "cSv5XeLGSWnw"
      },
      "source": [
        "*Por la precisión por defecto usada, podemos conlcuir que los valores óptimos son:*\n",
        "\n",
        "$$\n",
        "x_{1_{opt}}=2500000,\\qquad x_{2_{opt}}=0\n",
        "$$\n",
        "\n",
        "*Por lo tanto, la mejor decisión que puede tomar la refinería para cumplir el contraro minimizando sus costos, es produciendo 2500000 barriles de petróleo crudo ligero.*"
      ]
    },
    {
      "cell_type": "markdown",
      "metadata": {
        "id": "P7B0KHPVBOzx"
      },
      "source": [
        "# **Problema 7**\n",
        "Resolver \n",
        "$$\n",
        "\\begin{array}{cr}\n",
        "\\mbox{minimizar}     & \\exp\\left(\\sin^2(5\\pi x_1)+\\cos^2(5\\pi x_2)\\right)  \\\\\n",
        "\\mbox{sujeto a}     & |x_1|\\leq 1,\\\\\n",
        " & |x_2|\\leq 1,\n",
        "\\end{array}\n",
        "$$"
      ]
    },
    {
      "cell_type": "markdown",
      "metadata": {
        "id": "aFn1_TR7kCNQ"
      },
      "source": [
        "###<font color='red'><center><h2><b>*Solución*</font>"
      ]
    },
    {
      "cell_type": "markdown",
      "metadata": {
        "id": "q4EPcDMsepuU"
      },
      "source": [
        "*Este problema corresponde a un tipo de optimización con restricciones de caja. Gráficamente tenemos lo siguiente:*"
      ]
    },
    {
      "cell_type": "code",
      "metadata": {
        "colab": {
          "base_uri": "https://localhost:8080/",
          "height": 396
        },
        "id": "KzBU4lDRedSC",
        "outputId": "5e45e809-d03d-4f04-d848-bf380c7a6070"
      },
      "source": [
        "IFrame(src=\"https://www.geogebra.org/3d/h27uhfv7\", width=700, height=375)"
      ],
      "execution_count": null,
      "outputs": [
        {
          "output_type": "execute_result",
          "data": {
            "text/html": [
              "\n",
              "        <iframe\n",
              "            width=\"700\"\n",
              "            height=\"375\"\n",
              "            src=\"https://www.geogebra.org/3d/h27uhfv7\"\n",
              "            frameborder=\"0\"\n",
              "            allowfullscreen\n",
              "        ></iframe>\n",
              "        "
            ],
            "text/plain": [
              "<IPython.lib.display.IFrame at 0x7f6e7ac2e190>"
            ]
          },
          "metadata": {
            "tags": []
          },
          "execution_count": 92
        }
      ]
    },
    {
      "cell_type": "markdown",
      "metadata": {
        "id": "maXG0e0afZK2"
      },
      "source": [
        "*Note que la función tiene múltiples mínimos locales, por lo que se prevee una alta sensibilidad en el algoritmo de selección de óptimo con Scipy.optimize. Para verificar esto, en el siguiente código definimos la función, el dominio de caja que establece la restricción y consideramos cambiar el punto de inicio y se verifica que el óptimo alcanzado no es el mismo en cada caso:*"
      ]
    },
    {
      "cell_type": "code",
      "metadata": {
        "colab": {
          "base_uri": "https://localhost:8080/"
        },
        "id": "2RuP5_j3aGqV",
        "outputId": "5b67f710-5597-41e8-8ea3-38270d2e7d45"
      },
      "source": [
        "# Se define la función en varias variables\n",
        "def Fv(x): \n",
        "    return np.exp(np.sin(5*np.pi*x[0])**2+np.cos(5*np.pi*x[1])**2)\n",
        "# Se resuelve el problema para distintos valores iniciales y se imprime para poder comparar sus resultados\n",
        "print('Valor inicial: [-1,-1]')\n",
        "optimize.minimize(Fv, [-1,-1], bounds=((-1, 1), (-1, 1)), tol=1E-10)"
      ],
      "execution_count": null,
      "outputs": [
        {
          "output_type": "stream",
          "text": [
            "Valor inicial: [-1,-1]\n"
          ],
          "name": "stdout"
        },
        {
          "output_type": "execute_result",
          "data": {
            "text/plain": [
              "      fun: 1.0000000000000062\n",
              " hess_inv: <2x2 LbfgsInvHessProduct with dtype=float64>\n",
              "      jac: array([2.46469511e-06, 0.00000000e+00])\n",
              "  message: b'CONVERGENCE: NORM_OF_PROJECTED_GRADIENT_<=_PGTOL'\n",
              "     nfev: 39\n",
              "      nit: 4\n",
              "   status: 0\n",
              "  success: True\n",
              "        x: array([-1. , -0.9])"
            ]
          },
          "metadata": {
            "tags": []
          },
          "execution_count": 113
        }
      ]
    },
    {
      "cell_type": "code",
      "metadata": {
        "colab": {
          "base_uri": "https://localhost:8080/"
        },
        "id": "gPyNLoQeiLoP",
        "outputId": "342c3da6-89cd-4760-c0f6-20922511c88d"
      },
      "source": [
        "print('Valor inicial: [-0.5,-0.5]')\n",
        "optimize.minimize(Fv, [-0.5,-0.5], bounds=((-1, 1), (-1, 1)), tol=1E-10)"
      ],
      "execution_count": null,
      "outputs": [
        {
          "output_type": "stream",
          "text": [
            "Valor inicial: [-0.5,-0.5]\n"
          ],
          "name": "stdout"
        },
        {
          "output_type": "execute_result",
          "data": {
            "text/plain": [
              "      fun: 2.718281828459045\n",
              " hess_inv: <2x2 LbfgsInvHessProduct with dtype=float64>\n",
              "      jac: array([-2.79776202e-05, -1.45661261e-05])\n",
              "  message: b'CONVERGENCE: REL_REDUCTION_OF_F_<=_FACTR*EPSMCH'\n",
              "     nfev: 36\n",
              "      nit: 1\n",
              "   status: 0\n",
              "  success: True\n",
              "        x: array([-0.49999998, -0.50000002])"
            ]
          },
          "metadata": {
            "tags": []
          },
          "execution_count": 114
        }
      ]
    },
    {
      "cell_type": "code",
      "metadata": {
        "colab": {
          "base_uri": "https://localhost:8080/"
        },
        "id": "DZ9JSWpKiOHE",
        "outputId": "7b9f9caa-bbd5-434a-a402-7d77ba659b66"
      },
      "source": [
        "print('Valor inicial: [0,0]')\n",
        "optimize.minimize(Fv, [0,0], bounds=((-1, 1), (-1, 1)), tol=1E-10)"
      ],
      "execution_count": null,
      "outputs": [
        {
          "output_type": "stream",
          "text": [
            "Valor inicial: [0,0]\n"
          ],
          "name": "stdout"
        },
        {
          "output_type": "execute_result",
          "data": {
            "text/plain": [
              "      fun: 2.718281828459045\n",
              " hess_inv: <2x2 LbfgsInvHessProduct with dtype=float64>\n",
              "      jac: array([-1.45661261e-05, -2.79776202e-05])\n",
              "  message: b'CONVERGENCE: REL_REDUCTION_OF_F_<=_FACTR*EPSMCH'\n",
              "     nfev: 36\n",
              "      nit: 1\n",
              "   status: 0\n",
              "  success: True\n",
              "        x: array([-1.58804635e-08,  1.58804635e-08])"
            ]
          },
          "metadata": {
            "tags": []
          },
          "execution_count": 115
        }
      ]
    },
    {
      "cell_type": "code",
      "metadata": {
        "colab": {
          "base_uri": "https://localhost:8080/"
        },
        "id": "YE7k5KDgiQBZ",
        "outputId": "ea57c9ae-bfeb-477f-f9d7-532684e1f113"
      },
      "source": [
        "print('Valor inicial: [0.5,0.5]')\n",
        "optimize.minimize(Fv, [1,1], bounds=((-1, 1), (-1, 1)), tol=1E-10)"
      ],
      "execution_count": null,
      "outputs": [
        {
          "output_type": "stream",
          "text": [
            "Valor inicial: [0.5,0.5]\n"
          ],
          "name": "stdout"
        },
        {
          "output_type": "execute_result",
          "data": {
            "text/plain": [
              "      fun: 2.718281828459045\n",
              " hess_inv: <2x2 LbfgsInvHessProduct with dtype=float64>\n",
              "      jac: array([ 5.95079541e-06, -6.66133815e-06])\n",
              "  message: b'CONVERGENCE: REL_REDUCTION_OF_F_<=_FACTR*EPSMCH'\n",
              "     nfev: 18\n",
              "      nit: 1\n",
              "   status: 0\n",
              "  success: True\n",
              "        x: array([1., 1.])"
            ]
          },
          "metadata": {
            "tags": []
          },
          "execution_count": 108
        }
      ]
    },
    {
      "cell_type": "code",
      "metadata": {
        "colab": {
          "base_uri": "https://localhost:8080/"
        },
        "id": "71JEXnXhiZlL",
        "outputId": "9d0bf256-b082-492d-e6b4-d0daef1fdab6"
      },
      "source": [
        "print('Valor inicial: [0.5,0.5]')\n",
        "optimize.minimize(Fv, [-1,0], bounds=((-1, 1), (-1, 1)), tol=1E-10)"
      ],
      "execution_count": null,
      "outputs": [
        {
          "output_type": "stream",
          "text": [
            "Valor inicial: [0.5,0.5]\n"
          ],
          "name": "stdout"
        },
        {
          "output_type": "execute_result",
          "data": {
            "text/plain": [
              "      fun: 1.0000000000000062\n",
              " hess_inv: <2x2 LbfgsInvHessProduct with dtype=float64>\n",
              "      jac: array([2.46469511e-06, 0.00000000e+00])\n",
              "  message: b'CONVERGENCE: NORM_OF_PROJECTED_GRADIENT_<=_PGTOL'\n",
              "     nfev: 39\n",
              "      nit: 4\n",
              "   status: 0\n",
              "  success: True\n",
              "        x: array([-1.        ,  0.09999999])"
            ]
          },
          "metadata": {
            "tags": []
          },
          "execution_count": 112
        }
      ]
    },
    {
      "cell_type": "code",
      "metadata": {
        "colab": {
          "base_uri": "https://localhost:8080/"
        },
        "id": "I0ek66alis_X",
        "outputId": "f36c0bd6-4d5a-4709-b4bd-3c4b8e6c75ce"
      },
      "source": [
        "print('Valor inicial: [0.5,0.5]')\n",
        "optimize.minimize(Fv, [0.35,-0.35], bounds=((-1, 1), (-1, 1)), tol=1E-10)"
      ],
      "execution_count": null,
      "outputs": [
        {
          "output_type": "stream",
          "text": [
            "Valor inicial: [0.5,0.5]\n"
          ],
          "name": "stdout"
        },
        {
          "output_type": "execute_result",
          "data": {
            "text/plain": [
              "      fun: 1.0000000000000122\n",
              " hess_inv: <2x2 LbfgsInvHessProduct with dtype=float64>\n",
              "      jac: array([0.00000000e+00, 2.22044605e-08])\n",
              "  message: b'CONVERGENCE: REL_REDUCTION_OF_F_<=_FACTR*EPSMCH'\n",
              "     nfev: 33\n",
              "      nit: 7\n",
              "   status: 0\n",
              "  success: True\n",
              "        x: array([0.6, 0.1])"
            ]
          },
          "metadata": {
            "tags": []
          },
          "execution_count": 118
        }
      ]
    }
  ]
}